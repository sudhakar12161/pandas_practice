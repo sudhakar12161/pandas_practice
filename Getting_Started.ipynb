{
 "cells": [
  {
   "cell_type": "markdown",
   "metadata": {},
   "source": [
    "# Package overview\n",
    "* pandas is a Python package providing fast, flexible, and expressive data structures designed to make working with “relational” or “labeled” data both easy and intuitive.\n",
    "* pandas is built on top of NumPy and is intended to integrate well within a scientific computing environment with many other 3rd party libraries.\n",
    "* Here are just a few of the things that pandas does well:\n",
    "    - Easy handling of missing data (represented as NaN) in floating point as well as non-floating point data\n",
    "    - Size mutability: columns can be inserted and deleted from DataFrame and higher dimensional objects\n",
    "    - Automatic and explicit data alignment: objects can be explicitly aligned to a set of labels, or the user can simply ignore the labels and let Series, DataFrame, etc. automatically align the data for you in computations\n",
    "    - Powerful, flexible group by functionality to perform split-apply-combine operations on data sets, for both aggregating and transforming data\n",
    "    - Make it easy to convert ragged, differently-indexed data in other Python and NumPy data structures into DataFrame objects\n",
    "    - Intelligent label-based slicing, fancy indexing, and subsetting of large data sets\n",
    "    - Intuitive merging and joining data sets\n",
    "    - Flexible reshaping and pivoting of data sets\n",
    "    - Hierarchical labeling of axes (possible to have multiple labels per tick)\n",
    "    - Robust IO tools for loading data from flat files (CSV and delimited), Excel files, databases, and saving / loading data from the ultrafast HDF5 format\n",
    "    - Time series-specific functionality: date range generation and frequency conversion, moving window statistics, date shifting and lagging."
   ]
  },
  {
   "cell_type": "markdown",
   "metadata": {},
   "source": [
    "# Comparison Pandas with SQL"
   ]
  },
  {
   "cell_type": "markdown",
   "metadata": {},
   "source": [
    "* A pandas Series has no column labels, as it is just a single column of a DataFrame. A Series does have row labels."
   ]
  },
  {
   "cell_type": "markdown",
   "metadata": {},
   "source": [
    "#### SELECT\n",
    "* SELECT total_bill, tip, smoker, time\n",
    "FROM tips\n",
    "LIMIT 5;\n",
    "* tips[['total_bill', 'tip', 'smoker', 'time']].head(5)\n",
    "* SELECT *, tip/total_bill as tip_rate\n",
    "FROM tips\n",
    "LIMIT 5;\n",
    "* tips.assign(tip_rate=tips['tip'] / tips['total_bill']).head(5)"
   ]
  },
  {
   "cell_type": "markdown",
   "metadata": {},
   "source": [
    "#### WHERE \n",
    "* SELECT *\n",
    "FROM tips\n",
    "WHERE time = 'Dinner'\n",
    "LIMIT 5;\n",
    "* tips[tips['time'] == 'Dinner'].head(5)\n",
    "* is_dinner = tips['time'] == 'Dinner'\n",
    "* is_dinner.value_counts()\n",
    "* tips[is_dinner].head(5)"
   ]
  },
  {
   "cell_type": "code",
   "execution_count": null,
   "metadata": {},
   "outputs": [],
   "source": []
  }
 ],
 "metadata": {
  "kernelspec": {
   "display_name": "Python 3",
   "language": "python",
   "name": "python3"
  },
  "language_info": {
   "codemirror_mode": {
    "name": "ipython",
    "version": 3
   },
   "file_extension": ".py",
   "mimetype": "text/x-python",
   "name": "python",
   "nbconvert_exporter": "python",
   "pygments_lexer": "ipython3",
   "version": "3.7.6"
  }
 },
 "nbformat": 4,
 "nbformat_minor": 4
}
